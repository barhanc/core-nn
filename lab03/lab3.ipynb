{
 "cells": [
  {
   "cell_type": "code",
   "execution_count": null,
   "metadata": {
    "collapsed": true
   },
   "outputs": [],
   "source": [
    "import numpy as np\n",
    "import matplotlib.pyplot as plt\n",
    "\n",
    "from numpy.typing import NDArray\n",
    "\n",
    "np.random.seed(1234)\n",
    "\n",
    "%matplotlib inline\n",
    "%config InlineBackend.figure_format = 'retina'\n",
    "plt.rcParams[\"figure.figsize\"] = [16, 9]"
   ]
  },
  {
   "cell_type": "markdown",
   "metadata": {},
   "source": [
    "### Handy utility functions"
   ]
  },
  {
   "cell_type": "code",
   "execution_count": null,
   "metadata": {
    "collapsed": true
   },
   "outputs": [],
   "source": [
    "# --- Anything that uses this function is unnecessarily obfuscated\n",
    "# def append_ones(matrix):\n",
    "#     return np.concatenate((matrix, np.ones((matrix.shape[0], 1), dtype=np.float32)), axis=1)\n",
    "\n",
    "\n",
    "def zeros(*dims: int) -> NDArray:\n",
    "    return np.zeros(shape=tuple(dims), dtype=np.float32)\n",
    "\n",
    "\n",
    "def ones(*dims: int) -> NDArray:\n",
    "    return np.ones(shape=tuple(dims), dtype=np.float32)\n",
    "\n",
    "\n",
    "def rand(*dims: int) -> NDArray:\n",
    "    return np.random.rand(*dims).astype(np.float32)\n",
    "\n",
    "\n",
    "def chunks(seq: NDArray, size: int):\n",
    "    return (seq[pos : pos + size] for pos in range(0, len(seq), size))\n",
    "\n",
    "\n",
    "def tiles(examples: NDArray) -> NDArray:\n",
    "    rows, cols, h, w = examples.shape\n",
    "    space = 2\n",
    "\n",
    "    img_matrix = np.empty(shape=(rows * h + (rows - 1) * space, cols * w + (cols - 1) * space))\n",
    "    img_matrix.fill(np.nan)\n",
    "\n",
    "    for r in range(rows):\n",
    "        for c in range(cols):\n",
    "            x0 = r * w + r * space\n",
    "            y0 = c * h + c * space\n",
    "            img_matrix[x0 : x0 + w, y0 : y0 + w] = examples[r, c, :, :]\n",
    "\n",
    "    plt.matshow(img_matrix, cmap=\"gray\", interpolation=\"none\")\n",
    "    plt.axis(\"off\")\n",
    "    plt.show()"
   ]
  },
  {
   "cell_type": "markdown",
   "metadata": {},
   "source": [
    "# MNIST dataset"
   ]
  },
  {
   "cell_type": "code",
   "execution_count": null,
   "metadata": {
    "collapsed": true
   },
   "outputs": [],
   "source": [
    "from mnists import MNIST\n",
    "\n",
    "mnist = MNIST()\n",
    "digits = mnist.train_images()\n",
    "digits = digits[: 12 * 24]\n",
    "digits = digits.reshape(12, 24, 28, 28)\n",
    "tiles(digits)"
   ]
  },
  {
   "cell_type": "markdown",
   "metadata": {},
   "source": [
    "# Restricted Boltzmann Machine & Contrastive Divergence algorithm"
   ]
  },
  {
   "cell_type": "code",
   "execution_count": null,
   "metadata": {
    "collapsed": true
   },
   "outputs": [],
   "source": [
    "def sigmoid(X: NDArray) -> NDArray:\n",
    "    return 1.0 / (1.0 + np.exp(-X))\n",
    "\n",
    "\n",
    "class RBM:\n",
    "    def __init__(self, vsize: int, hsize: int, lr: float):\n",
    "        self.vsize, self.hsize = vsize, hsize\n",
    "        self.lr = lr\n",
    "        self.reset()\n",
    "\n",
    "    def reset(self):\n",
    "        # Xavier initialization\n",
    "        radius = np.sqrt(6 / (self.vsize + self.hsize))\n",
    "        self.w = np.random.uniform(-radius, +radius, size=(self.vsize, self.hsize)).astype(np.float32)\n",
    "\n",
    "        # Zero initialization\n",
    "        self.b = np.zeros(self.vsize).astype(np.float32)\n",
    "        self.c = np.zeros(self.hsize).astype(np.float32)\n",
    "\n",
    "    def probas_v(self, h: NDArray) -> NDArray:\n",
    "        return sigmoid(self.b + h @ self.w.T)\n",
    "\n",
    "    def probas_h(self, v: NDArray) -> NDArray:\n",
    "        return sigmoid(self.c + v @ self.w)\n",
    "\n",
    "    def sample(self, v: NDArray, steps: int) -> NDArray:\n",
    "        batch_size = v.shape[0]\n",
    "        # --- Gibbs sampling\n",
    "        for _ in range(steps):\n",
    "            h = self.probas_h(v) > rand(batch_size, self.hsize)\n",
    "            σ = self.probas_v(h)\n",
    "            v = σ > rand(batch_size, self.vsize)\n",
    "\n",
    "        return σ"
   ]
  },
  {
   "cell_type": "markdown",
   "metadata": {},
   "source": [
    "## Algorytm Contrastive Divergence\n",
    "\n",
    "$\\newcommand{\\vect}[1]{\\mathbf{#1}}$\n",
    "W sieci RBM gradient funkcji kosztu względem wag wyznaczamy zgodnie ze wzorem:\n",
    "\n",
    "$\\frac{\\delta}{\\delta w_{ij}} -\\log P(\\vect{v}) = -\\mathbf{E}[v_i h_j \\vert \\vect{v}] + \\mathbf{E}[v_i h_j]$\n",
    "\n",
    "#### Faza pozytywna - odpowiada za część $\\mathbf{E}[v_i h_j \\vert \\vect{v}]$\n",
    "\n",
    "Tą część gradientu wyznaczamy przez wyliczenie iloczynów $v_i h_j$ pomiędzy elementami wektora obserwacji ($v_i$) a prawdopodobieństwami aktywacji w warstwie ukrytej ($h_j$). Operację tą możemy zapisać w postaci zwektoryzowanej jako:\n",
    "\n",
    "$\\nabla_P = \\vect{v}^T\\sigma(\\vect{vW})$\n",
    "\n",
    "#### Faza negatywna - odpowiada za część $\\mathbf{E}[v_i h_j]$\n",
    "\n",
    "Rozpoczynamy od prawdopodobieństw aktywacji neuronów w warstwie ukrytej, które zostały wyznaczone w fazie pozytywnej. Na ich podstawie losujemy próbkę aktywacji w warstwie ukrytej:\n",
    "\n",
    "$\\vect{h} = \\sigma (\\vect{vW}) > [rand_1, rand_2, \\dots, rand_m]$\n",
    "\n",
    "Następnie losujemy próbkę aktywacji w warstwie widocznej:\n",
    "\n",
    "$\\vect{v}_1 = \\sigma (\\vect{hW}^T) > [rand_1, rand_2, \\dots, rand_n]$\n",
    "\n",
    "Aby wyznaczyć *fantazję* sieci RBM, powyższe próbki losujemy (naprzemiennie) $k$ razy (gdzie $k$ to parametr algorytmu CD-*k*):\n",
    "\n",
    "$\\vect{h}_{k-1} = \\sigma (\\vect{v}_{k-1}\\vect{W}) > [rand_1, rand_2, \\dots, rand_m]$, \n",
    "$\\vect{v}_k = \\sigma (\\vect{h}_{k-1}\\vect{W}^T) > [rand_1, rand_2, \\dots, rand_n]$\n",
    "\n",
    "Część negatywną gradientu wyznaczamy poprzez wyliczenie iloczynów $v_{k_i} h_j$ pomiędzy elementami wektora *fantazji* RBM ($v_{k_i}$) a prawdopodobieństwami aktywacji w warstwie ukrytej wyliczonymi dla tejże *fantazji* ($h_j$). Operację tą możemy zapisać w postaci zwektoryzowanej jako:\n",
    "\n",
    "$\\nabla_N = \\vect{v}_k^T\\sigma(\\vect{v}_k\\vect{W})$\n",
    "\n",
    "\n",
    "#### Aktualizacja macierzy wag RBM\n",
    "\n",
    "Uczymy stochastycznym spadkiem wzdłuż gradientu:\n",
    "\n",
    "$\\phi_{t+1} \\leftarrow \\phi_t - \\epsilon \\nabla$\n",
    "\n",
    "co dla gradientu RBM daje:\n",
    "\n",
    "$W_{t+1} \\leftarrow W_t + \\epsilon \\nabla_P - \\epsilon \\nabla_N$"
   ]
  },
  {
   "cell_type": "code",
   "execution_count": null,
   "metadata": {
    "collapsed": true
   },
   "outputs": [],
   "source": [
    "def cdk(rbm: RBM, minibatch: NDArray, k: int = 1):\n",
    "    batch_size = minibatch.shape[0]\n",
    "    v = minibatch\n",
    "\n",
    "    # Compute gradients\n",
    "    # -----------------\n",
    "    # Positive phase\n",
    "\n",
    "    σ = rbm.probas_h(v)\n",
    "\n",
    "    grad_w = -1 / batch_size * (v.T @ σ)\n",
    "    grad_b = -1 / batch_size * (v.sum(axis=0))\n",
    "    grad_c = -1 / batch_size * (σ.sum(axis=0))\n",
    "\n",
    "    # Negative phase\n",
    "\n",
    "    # --- Gibbs sampling\n",
    "    h = σ > rand(batch_size, rbm.hsize)\n",
    "    v = rbm.probas_v(h) > rand(batch_size, rbm.vsize)\n",
    "    for _ in range(k - 1):\n",
    "        h = rbm.probas_h(v) > rand(batch_size, rbm.hsize)\n",
    "        v = rbm.probas_v(h) > rand(batch_size, rbm.vsize)\n",
    "\n",
    "    # --- Negative gradient estimation\n",
    "    σ = rbm.probas_h(v)\n",
    "\n",
    "    grad_w += 1 / batch_size * (v.T @ σ)\n",
    "    grad_b += 1 / batch_size * (v.sum(axis=0))\n",
    "    grad_c += 1 / batch_size * (σ.sum(axis=0))\n",
    "\n",
    "    # Update params\n",
    "    # -------------\n",
    "    rbm.w -= rbm.lr * grad_w\n",
    "    rbm.b -= rbm.lr * grad_b\n",
    "    rbm.c -= rbm.lr * grad_c"
   ]
  },
  {
   "cell_type": "markdown",
   "metadata": {},
   "source": [
    "### RBM reconstruction error"
   ]
  },
  {
   "cell_type": "code",
   "execution_count": null,
   "metadata": {
    "collapsed": true
   },
   "outputs": [],
   "source": [
    "def reconstuction_error(rbm: RBM, v: NDArray) -> float:\n",
    "    batch_size = v.shape[0]\n",
    "    h = rbm.probas_h(v) > rand(batch_size, rbm.hsize)\n",
    "    σ = rbm.probas_v(h)\n",
    "    return 1 / batch_size * np.sum((v - σ) ** 2)"
   ]
  },
  {
   "cell_type": "markdown",
   "metadata": {},
   "source": [
    "# RBM Training"
   ]
  },
  {
   "cell_type": "code",
   "execution_count": null,
   "metadata": {
    "collapsed": true
   },
   "outputs": [],
   "source": [
    "import time\n",
    "\n",
    "DATASET_SIZE = 20_000  # 60000 for whole dataset\n",
    "DIGIT_SIZE = 28\n",
    "\n",
    "VISIBLE_LAYER_SIZE = DIGIT_SIZE * DIGIT_SIZE\n",
    "HIDDEN_LAYER_SIZE = 128\n",
    "LEARNING_RATE = 0.1\n",
    "\n",
    "mnist_train = mnist.train_images().astype(np.float32) / 255.0\n",
    "np.random.shuffle(mnist_train)\n",
    "dataset = mnist_train[:DATASET_SIZE]\n",
    "dataset = dataset.reshape(DATASET_SIZE, DIGIT_SIZE * DIGIT_SIZE)\n",
    "# dataset = append_ones(dataset)\n",
    "\n",
    "monitoring_indeces = np.random.choice(DATASET_SIZE, 256, replace=False)\n",
    "monitoring_set = dataset[monitoring_indeces]\n",
    "\n",
    "rbm = RBM(VISIBLE_LAYER_SIZE, HIDDEN_LAYER_SIZE, LEARNING_RATE)"
   ]
  },
  {
   "cell_type": "code",
   "execution_count": null,
   "metadata": {
    "collapsed": true
   },
   "outputs": [],
   "source": [
    "def draw_filters(rbm: RBM):\n",
    "    filters = rbm.w.T\n",
    "    filters = filters.reshape(8, -1, 28, 28)\n",
    "    filters = np.clip(filters, -1, 1)\n",
    "    tiles(filters)"
   ]
  },
  {
   "cell_type": "code",
   "execution_count": null,
   "metadata": {
    "collapsed": true
   },
   "outputs": [],
   "source": [
    "draw_filters(rbm)"
   ]
  },
  {
   "cell_type": "code",
   "execution_count": null,
   "metadata": {
    "collapsed": true
   },
   "outputs": [],
   "source": [
    "BATCH_SIZE = 128\n",
    "EPOCHS_COUNT = 50\n",
    "\n",
    "\n",
    "def train_epoch(rbm: RBM, dataset: NDArray):\n",
    "    batches_limit = dataset.shape[0] / BATCH_SIZE\n",
    "\n",
    "    for batch_idx, batch in enumerate(chunks(dataset, BATCH_SIZE)):\n",
    "        cdk(rbm, batch, k=1)\n",
    "        if batch_idx % round(batches_limit / 50) == 0:\n",
    "            print(\"#\", end=\"\")\n",
    "\n",
    "\n",
    "rbm.reset()\n",
    "for epoch in range(EPOCHS_COUNT):\n",
    "    print(\"Epoch {}:\".format(epoch + 1), end=\"\\t\")\n",
    "\n",
    "    start_time = time.time()\n",
    "    train_epoch(rbm, dataset)\n",
    "\n",
    "    elapsed = time.time() - start_time\n",
    "    error = reconstuction_error(rbm, monitoring_set)\n",
    "    print(\"\\telapsed: {0:>2.2f}s, reconstruction error: {1:>2.2f}\".format(elapsed, error))\n",
    "\n",
    "print(\"Training finished!\")"
   ]
  },
  {
   "cell_type": "code",
   "execution_count": null,
   "metadata": {
    "collapsed": true
   },
   "outputs": [],
   "source": [
    "draw_filters(rbm)"
   ]
  },
  {
   "cell_type": "code",
   "execution_count": null,
   "metadata": {},
   "outputs": [],
   "source": [
    "blueprints = monitoring_set[: 8 * 16]\n",
    "samples = rbm.sample(blueprints, steps=1_000)\n",
    "tiles(blueprints.reshape(-1, 16, 28, 28))\n",
    "tiles(samples.reshape(-1, 16, 28, 28))"
   ]
  },
  {
   "cell_type": "code",
   "execution_count": null,
   "metadata": {},
   "outputs": [],
   "source": []
  }
 ],
 "metadata": {
  "kernelspec": {
   "display_name": "venv",
   "language": "python",
   "name": "python3"
  },
  "language_info": {
   "codemirror_mode": {
    "name": "ipython",
    "version": 3
   },
   "file_extension": ".py",
   "mimetype": "text/x-python",
   "name": "python",
   "nbconvert_exporter": "python",
   "pygments_lexer": "ipython3",
   "version": "3.10.14"
  }
 },
 "nbformat": 4,
 "nbformat_minor": 2
}
